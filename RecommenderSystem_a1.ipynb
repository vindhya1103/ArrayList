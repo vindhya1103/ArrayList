{
  "cells": [
    {
      "cell_type": "markdown",
      "metadata": {
        "id": "view-in-github",
        "colab_type": "text"
      },
      "source": [
        "<a href=\"https://colab.research.google.com/github/vindhya1103/ArrayList/blob/main/RecommenderSystem_a1.ipynb\" target=\"_parent\"><img src=\"https://colab.research.google.com/assets/colab-badge.svg\" alt=\"Open In Colab\"/></a>"
      ]
    },
    {
      "cell_type": "code",
      "execution_count": null,
      "metadata": {
        "id": "50QoPsEKoYkl"
      },
      "outputs": [],
      "source": [
        "!pip install -q streamlit"
      ]
    },
    {
      "cell_type": "code",
      "execution_count": null,
      "metadata": {
        "colab": {
          "background_save": true
        },
        "id": "7tGpkJfIpn25",
        "outputId": "b17d7933-53a3-4de6-977f-b7c5b6ebd74b"
      },
      "outputs": [
        {
          "name": "stderr",
          "output_type": "stream",
          "text": [
            "2023-09-30 12:22:44.947 WARNING streamlit.runtime.state.session_state_proxy: Session state does not function when running a script without `streamlit run`\n",
            "2023-09-30 12:22:45.168 \n",
            "  \u001b[33m\u001b[1mWarning:\u001b[0m to view this Streamlit app on a browser, run it with the following\n",
            "  command:\n",
            "\n",
            "    streamlit run /usr/local/lib/python3.10/dist-packages/colab_kernel_launcher.py [ARGUMENTS]\n"
          ]
        },
        {
          "data": {
            "text/plain": [
              "DeltaGenerator()"
            ]
          },
          "execution_count": 1,
          "metadata": {},
          "output_type": "execute_result"
        }
      ],
      "source": [
        "import streamlit as st\n",
        "import pandas as pd\n",
        "import numpy as np\n",
        "from PIL import Image\n",
        "x = st.slider('Select a value')\n",
        "st.write(x, 'squared is', x * x)\n",
        "pt_data = {\n",
        "    \"Name\": [\"Project A\", \"Project B\", \"Project C\", \"Project D\", \"Project E\"],\n",
        "    \"UserID\": [1, 2, 1, 3, 2],\n",
        "    \"index\": [101, 102, 103, 104, 105],\n",
        "}\n",
        "\n",
        "pt_df = pd.DataFrame(pt_data)\n",
        "\n",
        "popular_projects_data = {\n",
        "    \"Project-Title\": [\n",
        "        \"Machine Learning with Python\",\n",
        "        \"Web Development Basics\",\n",
        "        \"Data Science Fundamentals\",\n",
        "    ],\n",
        "    \"Project-Author\": [\"John Doe\", \"Jane Smith\", \"Alice Johnson\"],\n",
        "    \"Image-URL\": [\n",
        "        \"https://example.com/image1.jpg\",\n",
        "        \"https://example.com/image2.jpg\",\n",
        "        \"https://example.com/image3.jpg\",\n",
        "    ],\n",
        "    \"Project-Views\": [5000, 3200, 6000],\n",
        "    \"Avg-Likes\": [4.5, 4.2, 4.7],\n",
        "}\n",
        "\n",
        "popular_projects_df = pd.DataFrame(popular_projects_data)\n",
        "\n",
        "similarity_scores = {\n",
        "    \"Project A\": {\"Project B\": 0.85, \"Project C\": 0.72, \"Project D\": 0.61},\n",
        "    \"Project B\": {\"Project A\": 0.85, \"Project C\": 0.67, \"Project E\": 0.55},\n",
        "    \"Project C\": {\"Project A\": 0.72, \"Project B\": 0.67, \"Project D\": 0.74},\n",
        "    \"Project D\": {\"Project A\": 0.61, \"Project C\": 0.74, \"Project E\": 0.68},\n",
        "    \"Project E\": {\"Project B\": 0.55, \"Project D\": 0.68},\n",
        "}\n",
        "\n",
        "def recommend_project(user_input):\n",
        "    if user_input in similarity_scores:\n",
        "        similar_items = sorted(\n",
        "            list(similarity_scores[user_input].items()),\n",
        "            key=lambda x: x[1],\n",
        "            reverse=True,\n",
        "        )[1:5]\n",
        "        return [item[0] for item in similar_items]\n",
        "    else:\n",
        "        return []\n",
        "\n",
        "st.title(\"Project Recommender System\")\n",
        "\n",
        "user_input = st.selectbox(\n",
        "    \"Please select a project from the dropdown\", pt_df[\"Name\"]\n",
        ")\n",
        "\n",
        "if st.button(\"Show Recommendations\"):\n",
        "    st.header(f\"Recommendations for project: {user_input}\")\n",
        "    recommended_projects = recommend_project(user_input)\n",
        "\n",
        "    if recommended_projects:\n",
        "        cols = st.columns(4)\n",
        "        for c in range(len(recommended_projects)):\n",
        "            with cols[c]:\n",
        "                project_name = recommended_projects[c]\n",
        "                project_author = popular_projects_df.loc[\n",
        "                    popular_projects_df[\"Project-Title\"] == project_name, \"Project-Author\"\n",
        "                ].values[0]\n",
        "                image_url = popular_projects_df.loc[\n",
        "                    popular_projects_df[\"Project-Title\"] == project_name, \"Image-URL\"\n",
        "                ].values[0]\n",
        "\n",
        "                st.image(image_url, width=200)\n",
        "                st.write(f\"Project: Crypto.me\")\n",
        "                st.write(f\"Author: Lily Collins\")\n",
        "\n",
        "                st.write(\"Project Description: A \")\n",
        "\n",
        "                st.write(\"Collaborators: [None]\")\n",
        "\n",
        "                st.write(\"Languages: [Not specified]\")\n",
        "\n",
        "                st.write(\"Save Icon [Icon]\")\n",
        "                st.write(\"Comment Icon [Icon]\")\n",
        "\n",
        "                # Lock Icon (Placeholder)\n",
        "                lock_icon = Image.open(\"lock_icon.png\")  # Replace with your lock icon image\n",
        "                st.image(lock_icon, width=24)\n",
        "\n",
        "    else:\n",
        "        st.write(\"No recommendations available for this project.\")\n",
        "\n",
        "# Hide Streamlit style\n",
        "hide_st_style = \"\"\"\n",
        "<style>\n",
        "#MainMenu {visibility: hidden;}\n",
        "footer {visibility: hidden;}\n",
        "header {visibility: hidden;}\n",
        "</style>\n",
        "\"\"\"\n",
        "st.markdown(hide_st_style, unsafe_allow_html=True)\n"
      ]
    },
    {
      "cell_type": "code",
      "execution_count": null,
      "metadata": {
        "colab": {
          "base_uri": "https://localhost:8080/"
        },
        "id": "DQGqBbypFsYm",
        "outputId": "cd06a0a1-84e7-4220-c0f0-0b5fe01f7f93"
      },
      "outputs": [
        {
          "name": "stdout",
          "output_type": "stream",
          "text": [
            "\u001b[K\u001b[?25h\u001b[37;40mnpm\u001b[0m \u001b[0m\u001b[30;43mWARN\u001b[0m \u001b[0m\u001b[35msaveError\u001b[0m ENOENT: no such file or directory, open '/content/package.json'\n",
            "\u001b[0m\u001b[37;40mnpm\u001b[0m \u001b[0m\u001b[30;43mWARN\u001b[0m \u001b[0m\u001b[35menoent\u001b[0m ENOENT: no such file or directory, open '/content/package.json'\n",
            "\u001b[0m\u001b[37;40mnpm\u001b[0m \u001b[0m\u001b[30;43mWARN\u001b[0m\u001b[35m\u001b[0m content No description\n",
            "\u001b[0m\u001b[37;40mnpm\u001b[0m \u001b[0m\u001b[30;43mWARN\u001b[0m\u001b[35m\u001b[0m content No repository field.\n",
            "\u001b[0m\u001b[37;40mnpm\u001b[0m \u001b[0m\u001b[30;43mWARN\u001b[0m\u001b[35m\u001b[0m content No README data\n",
            "\u001b[0m\u001b[37;40mnpm\u001b[0m \u001b[0m\u001b[30;43mWARN\u001b[0m\u001b[35m\u001b[0m content No license field.\n",
            "\u001b[0m\n",
            "\u001b[K\u001b[?25h+ localtunnel@2.0.2\n",
            "updated 1 package and audited 36 packages in 0.778s\n",
            "\n",
            "3 packages are looking for funding\n",
            "  run `npm fund` for details\n",
            "\n",
            "found \u001b[92m0\u001b[0m vulnerabilities\n",
            "\n"
          ]
        }
      ],
      "source": [
        "!npm install localtunnel"
      ]
    },
    {
      "cell_type": "code",
      "execution_count": null,
      "metadata": {
        "colab": {
          "base_uri": "https://localhost:8080/"
        },
        "id": "vIyqLl72Mhf1",
        "outputId": "91d71d8b-8974-4d35-fbf8-9180d090a757"
      },
      "outputs": [
        {
          "metadata": {
            "tags": null
          },
          "name": "stdout",
          "output_type": "stream",
          "text": [
            "\n",
            "Collecting usage statistics. To deactivate, set browser.gatherUsageStats to False.\n",
            "\u001b[0m\n",
            "\u001b[0m\n",
            "\u001b[34m\u001b[1m  You can now view your Streamlit app in your browser.\u001b[0m\n",
            "\u001b[0m\n",
            "\u001b[34m  Network URL: \u001b[0m\u001b[1mhttp://172.28.0.12:8501\u001b[0m\n",
            "\u001b[34m  External URL: \u001b[0m\u001b[1mhttp://34.125.153.99:8501\u001b[0m\n",
            "\u001b[0m\n",
            "\u001b[34m  Stopping...\u001b[0m\n",
            "\u001b[34m  Stopping...\u001b[0m\n"
          ]
        }
      ],
      "source": [
        "!streamlit run /content/app.py &>/content/logs.txt & curl ipv4.icanhazip.com"
      ]
    },
    {
      "cell_type": "code",
      "execution_count": null,
      "metadata": {
        "colab": {
          "base_uri": "https://localhost:8080/"
        },
        "id": "VPngQ35PCHdh",
        "outputId": "6ba87507-4e06-4906-9e9f-5f3c81852476"
      },
      "outputs": [
        {
          "metadata": {
            "tags": null
          },
          "name": "stdout",
          "output_type": "stream",
          "text": [
            "\u001b[K\u001b[?25hnpx: installed 22 in 2.25s\n",
            "your url is: https://cuddly-carrots-own.loca.lt\n",
            "^C\n"
          ]
        }
      ],
      "source": [
        "!npx localtunnel --port 8501"
      ]
    },
    {
      "cell_type": "code",
      "execution_count": null,
      "metadata": {
        "id": "BwfBX0gkGmn7"
      },
      "outputs": [],
      "source": []
    }
  ],
  "metadata": {
    "colab": {
      "provenance": [],
      "include_colab_link": true
    },
    "kernelspec": {
      "display_name": "Python 3",
      "name": "python3"
    },
    "language_info": {
      "name": "python"
    }
  },
  "nbformat": 4,
  "nbformat_minor": 0
}